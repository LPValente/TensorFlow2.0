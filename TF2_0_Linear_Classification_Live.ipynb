{
  "nbformat": 4,
  "nbformat_minor": 0,
  "metadata": {
    "colab": {
      "provenance": [],
      "authorship_tag": "ABX9TyMZIaL3/j2wY/+reu3vuT3p",
      "include_colab_link": true
    },
    "kernelspec": {
      "name": "python3",
      "display_name": "Python 3"
    },
    "language_info": {
      "name": "python"
    }
  },
  "cells": [
    {
      "cell_type": "markdown",
      "metadata": {
        "id": "view-in-github",
        "colab_type": "text"
      },
      "source": [
        "<a href=\"https://colab.research.google.com/github/LPValente/TensorFlow2.0/blob/main/TF2_0_Linear_Classification_Live.ipynb\" target=\"_parent\"><img src=\"https://colab.research.google.com/assets/colab-badge.svg\" alt=\"Open In Colab\"/></a>"
      ]
    },
    {
      "cell_type": "markdown",
      "source": [
        "# Part 1"
      ],
      "metadata": {
        "id": "-oGlx-aaUlOl"
      }
    },
    {
      "cell_type": "code",
      "execution_count": null,
      "metadata": {
        "colab": {
          "base_uri": "https://localhost:8080/"
        },
        "id": "flagGyBuGfE8",
        "outputId": "244ce581-7d33-4c82-a600-fdf88e38f84a"
      },
      "outputs": [
        {
          "output_type": "stream",
          "name": "stdout",
          "text": [
            "Colab only includes TensorFlow 2.x; %tensorflow_version has no effect.\n",
            "2.12.0\n"
          ]
        }
      ],
      "source": [
        "try:\n",
        "  %tensorflow_version 2.x # Colab only.\n",
        "except Exception:\n",
        "  pass\n",
        "\n",
        "import tensorflow as tf\n",
        "print(tf.__version__)"
      ]
    },
    {
      "cell_type": "code",
      "source": [
        "# load in the data\n",
        "from sklearn.datasets import load_breast_cancer"
      ],
      "metadata": {
        "id": "RGrQkYDQHXdb"
      },
      "execution_count": null,
      "outputs": []
    },
    {
      "cell_type": "code",
      "source": [
        "data = load_breast_cancer()"
      ],
      "metadata": {
        "id": "Sq5Gz9N1HiLp"
      },
      "execution_count": null,
      "outputs": []
    },
    {
      "cell_type": "code",
      "source": [
        "data"
      ],
      "metadata": {
        "colab": {
          "base_uri": "https://localhost:8080/"
        },
        "id": "yRE2-ucrHnvn",
        "outputId": "60038338-497f-474a-ba52-abb7eca41480"
      },
      "execution_count": null,
      "outputs": [
        {
          "output_type": "execute_result",
          "data": {
            "text/plain": [
              "{'data': array([[1.799e+01, 1.038e+01, 1.228e+02, ..., 2.654e-01, 4.601e-01,\n",
              "         1.189e-01],\n",
              "        [2.057e+01, 1.777e+01, 1.329e+02, ..., 1.860e-01, 2.750e-01,\n",
              "         8.902e-02],\n",
              "        [1.969e+01, 2.125e+01, 1.300e+02, ..., 2.430e-01, 3.613e-01,\n",
              "         8.758e-02],\n",
              "        ...,\n",
              "        [1.660e+01, 2.808e+01, 1.083e+02, ..., 1.418e-01, 2.218e-01,\n",
              "         7.820e-02],\n",
              "        [2.060e+01, 2.933e+01, 1.401e+02, ..., 2.650e-01, 4.087e-01,\n",
              "         1.240e-01],\n",
              "        [7.760e+00, 2.454e+01, 4.792e+01, ..., 0.000e+00, 2.871e-01,\n",
              "         7.039e-02]]),\n",
              " 'target': array([0, 0, 0, 0, 0, 0, 0, 0, 0, 0, 0, 0, 0, 0, 0, 0, 0, 0, 0, 1, 1, 1,\n",
              "        0, 0, 0, 0, 0, 0, 0, 0, 0, 0, 0, 0, 0, 0, 0, 1, 0, 0, 0, 0, 0, 0,\n",
              "        0, 0, 1, 0, 1, 1, 1, 1, 1, 0, 0, 1, 0, 0, 1, 1, 1, 1, 0, 1, 0, 0,\n",
              "        1, 1, 1, 1, 0, 1, 0, 0, 1, 0, 1, 0, 0, 1, 1, 1, 0, 0, 1, 0, 0, 0,\n",
              "        1, 1, 1, 0, 1, 1, 0, 0, 1, 1, 1, 0, 0, 1, 1, 1, 1, 0, 1, 1, 0, 1,\n",
              "        1, 1, 1, 1, 1, 1, 1, 0, 0, 0, 1, 0, 0, 1, 1, 1, 0, 0, 1, 0, 1, 0,\n",
              "        0, 1, 0, 0, 1, 1, 0, 1, 1, 0, 1, 1, 1, 1, 0, 1, 1, 1, 1, 1, 1, 1,\n",
              "        1, 1, 0, 1, 1, 1, 1, 0, 0, 1, 0, 1, 1, 0, 0, 1, 1, 0, 0, 1, 1, 1,\n",
              "        1, 0, 1, 1, 0, 0, 0, 1, 0, 1, 0, 1, 1, 1, 0, 1, 1, 0, 0, 1, 0, 0,\n",
              "        0, 0, 1, 0, 0, 0, 1, 0, 1, 0, 1, 1, 0, 1, 0, 0, 0, 0, 1, 1, 0, 0,\n",
              "        1, 1, 1, 0, 1, 1, 1, 1, 1, 0, 0, 1, 1, 0, 1, 1, 0, 0, 1, 0, 1, 1,\n",
              "        1, 1, 0, 1, 1, 1, 1, 1, 0, 1, 0, 0, 0, 0, 0, 0, 0, 0, 0, 0, 0, 0,\n",
              "        0, 0, 1, 1, 1, 1, 1, 1, 0, 1, 0, 1, 1, 0, 1, 1, 0, 1, 0, 0, 1, 1,\n",
              "        1, 1, 1, 1, 1, 1, 1, 1, 1, 1, 1, 0, 1, 1, 0, 1, 0, 1, 1, 1, 1, 1,\n",
              "        1, 1, 1, 1, 1, 1, 1, 1, 1, 0, 1, 1, 1, 0, 1, 0, 1, 1, 1, 1, 0, 0,\n",
              "        0, 1, 1, 1, 1, 0, 1, 0, 1, 0, 1, 1, 1, 0, 1, 1, 1, 1, 1, 1, 1, 0,\n",
              "        0, 0, 1, 1, 1, 1, 1, 1, 1, 1, 1, 1, 1, 0, 0, 1, 0, 0, 0, 1, 0, 0,\n",
              "        1, 1, 1, 1, 1, 0, 1, 1, 1, 1, 1, 0, 1, 1, 1, 0, 1, 1, 0, 0, 1, 1,\n",
              "        1, 1, 1, 1, 0, 1, 1, 1, 1, 1, 1, 1, 0, 1, 1, 1, 1, 1, 0, 1, 1, 0,\n",
              "        1, 1, 1, 1, 1, 1, 1, 1, 1, 1, 1, 1, 0, 1, 0, 0, 1, 0, 1, 1, 1, 1,\n",
              "        1, 0, 1, 1, 0, 1, 0, 1, 1, 0, 1, 0, 1, 1, 1, 1, 1, 1, 1, 1, 0, 0,\n",
              "        1, 1, 1, 1, 1, 1, 0, 1, 1, 1, 1, 1, 1, 1, 1, 1, 1, 0, 1, 1, 1, 1,\n",
              "        1, 1, 1, 0, 1, 0, 1, 1, 0, 1, 1, 1, 1, 1, 0, 0, 1, 0, 1, 0, 1, 1,\n",
              "        1, 1, 1, 0, 1, 1, 0, 1, 0, 1, 0, 0, 1, 1, 1, 0, 1, 1, 1, 1, 1, 1,\n",
              "        1, 1, 1, 1, 1, 0, 1, 0, 0, 1, 1, 1, 1, 1, 1, 1, 1, 1, 1, 1, 1, 1,\n",
              "        1, 1, 1, 1, 1, 1, 1, 1, 1, 1, 1, 1, 0, 0, 0, 0, 0, 0, 1]),\n",
              " 'frame': None,\n",
              " 'target_names': array(['malignant', 'benign'], dtype='<U9'),\n",
              " 'DESCR': '.. _breast_cancer_dataset:\\n\\nBreast cancer wisconsin (diagnostic) dataset\\n--------------------------------------------\\n\\n**Data Set Characteristics:**\\n\\n    :Number of Instances: 569\\n\\n    :Number of Attributes: 30 numeric, predictive attributes and the class\\n\\n    :Attribute Information:\\n        - radius (mean of distances from center to points on the perimeter)\\n        - texture (standard deviation of gray-scale values)\\n        - perimeter\\n        - area\\n        - smoothness (local variation in radius lengths)\\n        - compactness (perimeter^2 / area - 1.0)\\n        - concavity (severity of concave portions of the contour)\\n        - concave points (number of concave portions of the contour)\\n        - symmetry\\n        - fractal dimension (\"coastline approximation\" - 1)\\n\\n        The mean, standard error, and \"worst\" or largest (mean of the three\\n        worst/largest values) of these features were computed for each image,\\n        resulting in 30 features.  For instance, field 0 is Mean Radius, field\\n        10 is Radius SE, field 20 is Worst Radius.\\n\\n        - class:\\n                - WDBC-Malignant\\n                - WDBC-Benign\\n\\n    :Summary Statistics:\\n\\n    ===================================== ====== ======\\n                                           Min    Max\\n    ===================================== ====== ======\\n    radius (mean):                        6.981  28.11\\n    texture (mean):                       9.71   39.28\\n    perimeter (mean):                     43.79  188.5\\n    area (mean):                          143.5  2501.0\\n    smoothness (mean):                    0.053  0.163\\n    compactness (mean):                   0.019  0.345\\n    concavity (mean):                     0.0    0.427\\n    concave points (mean):                0.0    0.201\\n    symmetry (mean):                      0.106  0.304\\n    fractal dimension (mean):             0.05   0.097\\n    radius (standard error):              0.112  2.873\\n    texture (standard error):             0.36   4.885\\n    perimeter (standard error):           0.757  21.98\\n    area (standard error):                6.802  542.2\\n    smoothness (standard error):          0.002  0.031\\n    compactness (standard error):         0.002  0.135\\n    concavity (standard error):           0.0    0.396\\n    concave points (standard error):      0.0    0.053\\n    symmetry (standard error):            0.008  0.079\\n    fractal dimension (standard error):   0.001  0.03\\n    radius (worst):                       7.93   36.04\\n    texture (worst):                      12.02  49.54\\n    perimeter (worst):                    50.41  251.2\\n    area (worst):                         185.2  4254.0\\n    smoothness (worst):                   0.071  0.223\\n    compactness (worst):                  0.027  1.058\\n    concavity (worst):                    0.0    1.252\\n    concave points (worst):               0.0    0.291\\n    symmetry (worst):                     0.156  0.664\\n    fractal dimension (worst):            0.055  0.208\\n    ===================================== ====== ======\\n\\n    :Missing Attribute Values: None\\n\\n    :Class Distribution: 212 - Malignant, 357 - Benign\\n\\n    :Creator:  Dr. William H. Wolberg, W. Nick Street, Olvi L. Mangasarian\\n\\n    :Donor: Nick Street\\n\\n    :Date: November, 1995\\n\\nThis is a copy of UCI ML Breast Cancer Wisconsin (Diagnostic) datasets.\\nhttps://goo.gl/U2Uwz2\\n\\nFeatures are computed from a digitized image of a fine needle\\naspirate (FNA) of a breast mass.  They describe\\ncharacteristics of the cell nuclei present in the image.\\n\\nSeparating plane described above was obtained using\\nMultisurface Method-Tree (MSM-T) [K. P. Bennett, \"Decision Tree\\nConstruction Via Linear Programming.\" Proceedings of the 4th\\nMidwest Artificial Intelligence and Cognitive Science Society,\\npp. 97-101, 1992], a classification method which uses linear\\nprogramming to construct a decision tree.  Relevant features\\nwere selected using an exhaustive search in the space of 1-4\\nfeatures and 1-3 separating planes.\\n\\nThe actual linear program used to obtain the separating plane\\nin the 3-dimensional space is that described in:\\n[K. P. Bennett and O. L. Mangasarian: \"Robust Linear\\nProgramming Discrimination of Two Linearly Inseparable Sets\",\\nOptimization Methods and Software 1, 1992, 23-34].\\n\\nThis database is also available through the UW CS ftp server:\\n\\nftp ftp.cs.wisc.edu\\ncd math-prog/cpo-dataset/machine-learn/WDBC/\\n\\n.. topic:: References\\n\\n   - W.N. Street, W.H. Wolberg and O.L. Mangasarian. Nuclear feature extraction \\n     for breast tumor diagnosis. IS&T/SPIE 1993 International Symposium on \\n     Electronic Imaging: Science and Technology, volume 1905, pages 861-870,\\n     San Jose, CA, 1993.\\n   - O.L. Mangasarian, W.N. Street and W.H. Wolberg. Breast cancer diagnosis and \\n     prognosis via linear programming. Operations Research, 43(4), pages 570-577, \\n     July-August 1995.\\n   - W.H. Wolberg, W.N. Street, and O.L. Mangasarian. Machine learning techniques\\n     to diagnose breast cancer from fine-needle aspirates. Cancer Letters 77 (1994) \\n     163-171.',\n",
              " 'feature_names': array(['mean radius', 'mean texture', 'mean perimeter', 'mean area',\n",
              "        'mean smoothness', 'mean compactness', 'mean concavity',\n",
              "        'mean concave points', 'mean symmetry', 'mean fractal dimension',\n",
              "        'radius error', 'texture error', 'perimeter error', 'area error',\n",
              "        'smoothness error', 'compactness error', 'concavity error',\n",
              "        'concave points error', 'symmetry error',\n",
              "        'fractal dimension error', 'worst radius', 'worst texture',\n",
              "        'worst perimeter', 'worst area', 'worst smoothness',\n",
              "        'worst compactness', 'worst concavity', 'worst concave points',\n",
              "        'worst symmetry', 'worst fractal dimension'], dtype='<U23'),\n",
              " 'filename': 'breast_cancer.csv',\n",
              " 'data_module': 'sklearn.datasets.data'}"
            ]
          },
          "metadata": {},
          "execution_count": 4
        }
      ]
    },
    {
      "cell_type": "code",
      "source": [
        "type(data)"
      ],
      "metadata": {
        "colab": {
          "base_uri": "https://localhost:8080/"
        },
        "id": "3B-uJJrEHsd1",
        "outputId": "0b911c21-0264-4e3c-a0c3-a2bb5fd553f9"
      },
      "execution_count": null,
      "outputs": [
        {
          "output_type": "execute_result",
          "data": {
            "text/plain": [
              "sklearn.utils._bunch.Bunch"
            ]
          },
          "metadata": {},
          "execution_count": 5
        }
      ]
    },
    {
      "cell_type": "code",
      "source": [
        "data.keys()"
      ],
      "metadata": {
        "colab": {
          "base_uri": "https://localhost:8080/"
        },
        "id": "SgoqtinIHvqg",
        "outputId": "6b42a653-da39-43c3-bfb9-70b1f43b1d36"
      },
      "execution_count": null,
      "outputs": [
        {
          "output_type": "execute_result",
          "data": {
            "text/plain": [
              "dict_keys(['data', 'target', 'frame', 'target_names', 'DESCR', 'feature_names', 'filename', 'data_module'])"
            ]
          },
          "metadata": {},
          "execution_count": 6
        }
      ]
    },
    {
      "cell_type": "code",
      "source": [
        "data.data.shape"
      ],
      "metadata": {
        "colab": {
          "base_uri": "https://localhost:8080/"
        },
        "id": "QD5I8z5FIHOu",
        "outputId": "ec2c96b7-3794-44d9-a4d5-eae972412b0b"
      },
      "execution_count": null,
      "outputs": [
        {
          "output_type": "execute_result",
          "data": {
            "text/plain": [
              "(569, 30)"
            ]
          },
          "metadata": {},
          "execution_count": 7
        }
      ]
    },
    {
      "cell_type": "code",
      "source": [
        "data.target"
      ],
      "metadata": {
        "colab": {
          "base_uri": "https://localhost:8080/"
        },
        "id": "0Ue7Wkj-IXQ6",
        "outputId": "e6058b75-6b94-4160-b0ad-9388f303fc91"
      },
      "execution_count": null,
      "outputs": [
        {
          "output_type": "execute_result",
          "data": {
            "text/plain": [
              "array([0, 0, 0, 0, 0, 0, 0, 0, 0, 0, 0, 0, 0, 0, 0, 0, 0, 0, 0, 1, 1, 1,\n",
              "       0, 0, 0, 0, 0, 0, 0, 0, 0, 0, 0, 0, 0, 0, 0, 1, 0, 0, 0, 0, 0, 0,\n",
              "       0, 0, 1, 0, 1, 1, 1, 1, 1, 0, 0, 1, 0, 0, 1, 1, 1, 1, 0, 1, 0, 0,\n",
              "       1, 1, 1, 1, 0, 1, 0, 0, 1, 0, 1, 0, 0, 1, 1, 1, 0, 0, 1, 0, 0, 0,\n",
              "       1, 1, 1, 0, 1, 1, 0, 0, 1, 1, 1, 0, 0, 1, 1, 1, 1, 0, 1, 1, 0, 1,\n",
              "       1, 1, 1, 1, 1, 1, 1, 0, 0, 0, 1, 0, 0, 1, 1, 1, 0, 0, 1, 0, 1, 0,\n",
              "       0, 1, 0, 0, 1, 1, 0, 1, 1, 0, 1, 1, 1, 1, 0, 1, 1, 1, 1, 1, 1, 1,\n",
              "       1, 1, 0, 1, 1, 1, 1, 0, 0, 1, 0, 1, 1, 0, 0, 1, 1, 0, 0, 1, 1, 1,\n",
              "       1, 0, 1, 1, 0, 0, 0, 1, 0, 1, 0, 1, 1, 1, 0, 1, 1, 0, 0, 1, 0, 0,\n",
              "       0, 0, 1, 0, 0, 0, 1, 0, 1, 0, 1, 1, 0, 1, 0, 0, 0, 0, 1, 1, 0, 0,\n",
              "       1, 1, 1, 0, 1, 1, 1, 1, 1, 0, 0, 1, 1, 0, 1, 1, 0, 0, 1, 0, 1, 1,\n",
              "       1, 1, 0, 1, 1, 1, 1, 1, 0, 1, 0, 0, 0, 0, 0, 0, 0, 0, 0, 0, 0, 0,\n",
              "       0, 0, 1, 1, 1, 1, 1, 1, 0, 1, 0, 1, 1, 0, 1, 1, 0, 1, 0, 0, 1, 1,\n",
              "       1, 1, 1, 1, 1, 1, 1, 1, 1, 1, 1, 0, 1, 1, 0, 1, 0, 1, 1, 1, 1, 1,\n",
              "       1, 1, 1, 1, 1, 1, 1, 1, 1, 0, 1, 1, 1, 0, 1, 0, 1, 1, 1, 1, 0, 0,\n",
              "       0, 1, 1, 1, 1, 0, 1, 0, 1, 0, 1, 1, 1, 0, 1, 1, 1, 1, 1, 1, 1, 0,\n",
              "       0, 0, 1, 1, 1, 1, 1, 1, 1, 1, 1, 1, 1, 0, 0, 1, 0, 0, 0, 1, 0, 0,\n",
              "       1, 1, 1, 1, 1, 0, 1, 1, 1, 1, 1, 0, 1, 1, 1, 0, 1, 1, 0, 0, 1, 1,\n",
              "       1, 1, 1, 1, 0, 1, 1, 1, 1, 1, 1, 1, 0, 1, 1, 1, 1, 1, 0, 1, 1, 0,\n",
              "       1, 1, 1, 1, 1, 1, 1, 1, 1, 1, 1, 1, 0, 1, 0, 0, 1, 0, 1, 1, 1, 1,\n",
              "       1, 0, 1, 1, 0, 1, 0, 1, 1, 0, 1, 0, 1, 1, 1, 1, 1, 1, 1, 1, 0, 0,\n",
              "       1, 1, 1, 1, 1, 1, 0, 1, 1, 1, 1, 1, 1, 1, 1, 1, 1, 0, 1, 1, 1, 1,\n",
              "       1, 1, 1, 0, 1, 0, 1, 1, 0, 1, 1, 1, 1, 1, 0, 0, 1, 0, 1, 0, 1, 1,\n",
              "       1, 1, 1, 0, 1, 1, 0, 1, 0, 1, 0, 0, 1, 1, 1, 0, 1, 1, 1, 1, 1, 1,\n",
              "       1, 1, 1, 1, 1, 0, 1, 0, 0, 1, 1, 1, 1, 1, 1, 1, 1, 1, 1, 1, 1, 1,\n",
              "       1, 1, 1, 1, 1, 1, 1, 1, 1, 1, 1, 1, 0, 0, 0, 0, 0, 0, 1])"
            ]
          },
          "metadata": {},
          "execution_count": 8
        }
      ]
    },
    {
      "cell_type": "code",
      "source": [
        "data.target_names"
      ],
      "metadata": {
        "colab": {
          "base_uri": "https://localhost:8080/"
        },
        "id": "ipGQuIS2Isvh",
        "outputId": "cc82e266-e8c7-457d-ebaa-fcbaa26882aa"
      },
      "execution_count": null,
      "outputs": [
        {
          "output_type": "execute_result",
          "data": {
            "text/plain": [
              "array(['malignant', 'benign'], dtype='<U9')"
            ]
          },
          "metadata": {},
          "execution_count": 9
        }
      ]
    },
    {
      "cell_type": "code",
      "source": [
        "data.feature_names"
      ],
      "metadata": {
        "colab": {
          "base_uri": "https://localhost:8080/"
        },
        "id": "WFUS8-4gI_3w",
        "outputId": "345931f0-5814-43de-d8ae-6766098cee72"
      },
      "execution_count": null,
      "outputs": [
        {
          "output_type": "execute_result",
          "data": {
            "text/plain": [
              "array(['mean radius', 'mean texture', 'mean perimeter', 'mean area',\n",
              "       'mean smoothness', 'mean compactness', 'mean concavity',\n",
              "       'mean concave points', 'mean symmetry', 'mean fractal dimension',\n",
              "       'radius error', 'texture error', 'perimeter error', 'area error',\n",
              "       'smoothness error', 'compactness error', 'concavity error',\n",
              "       'concave points error', 'symmetry error',\n",
              "       'fractal dimension error', 'worst radius', 'worst texture',\n",
              "       'worst perimeter', 'worst area', 'worst smoothness',\n",
              "       'worst compactness', 'worst concavity', 'worst concave points',\n",
              "       'worst symmetry', 'worst fractal dimension'], dtype='<U23')"
            ]
          },
          "metadata": {},
          "execution_count": 10
        }
      ]
    },
    {
      "cell_type": "code",
      "source": [
        "from sklearn.model_selection import train_test_split\n",
        "\n",
        "X_train, X_test, y_train, y_test = train_test_split(data.data, data.target, test_size = 0.33)"
      ],
      "metadata": {
        "id": "HFh_fyQ-JLc2"
      },
      "execution_count": null,
      "outputs": []
    },
    {
      "cell_type": "code",
      "source": [
        "N, D = X_train.shape"
      ],
      "metadata": {
        "id": "-G1cbn0iJ4Zj"
      },
      "execution_count": null,
      "outputs": []
    },
    {
      "cell_type": "code",
      "source": [
        "N, D"
      ],
      "metadata": {
        "colab": {
          "base_uri": "https://localhost:8080/"
        },
        "id": "0V-OUsu7J_un",
        "outputId": "035097fd-8f0d-4960-f217-251f04949970"
      },
      "execution_count": null,
      "outputs": [
        {
          "output_type": "execute_result",
          "data": {
            "text/plain": [
              "(381, 30)"
            ]
          },
          "metadata": {},
          "execution_count": 13
        }
      ]
    },
    {
      "cell_type": "code",
      "source": [
        "from sklearn.preprocessing import StandardScaler\n",
        "\n",
        "scaler = StandardScaler()\n",
        "X_train = scaler.fit_transform(X_train)\n",
        "X_test = scaler.transform(X_test)"
      ],
      "metadata": {
        "id": "mbm_xk1dKHN3"
      },
      "execution_count": null,
      "outputs": []
    },
    {
      "cell_type": "code",
      "source": [
        "model = tf.keras.models.Sequential([\n",
        "    tf.keras.layers.Input(shape=(D,)),\n",
        "    tf.keras.layers.Dense(1, activation='sigmoid')\n",
        "])"
      ],
      "metadata": {
        "id": "ZyEii_a_LUIi"
      },
      "execution_count": null,
      "outputs": []
    },
    {
      "cell_type": "code",
      "source": [
        "# Alternative\n",
        "# model = tf.keras.models.Sequential()\n",
        "# model.add(tf.keras.layers.Dense(1, input_shape=(D,), activation='sigmoid'))"
      ],
      "metadata": {
        "id": "C_HmJqaKL5J_"
      },
      "execution_count": null,
      "outputs": []
    },
    {
      "cell_type": "code",
      "source": [
        "model.compile(optimizer='adam',\n",
        "              loss='binary_crossentropy',\n",
        "              metrics=['accuracy'])"
      ],
      "metadata": {
        "id": "eOoSgB8RMQhG"
      },
      "execution_count": null,
      "outputs": []
    },
    {
      "cell_type": "code",
      "source": [
        "r = model.fit(X_train, y_train, validation_data = (X_test, y_test), epochs=100)"
      ],
      "metadata": {
        "colab": {
          "base_uri": "https://localhost:8080/"
        },
        "id": "CwkU9XmrMp38",
        "outputId": "2df64fb1-3b7b-422c-8b19-3c13ac0164aa"
      },
      "execution_count": null,
      "outputs": [
        {
          "output_type": "stream",
          "name": "stdout",
          "text": [
            "Epoch 1/100\n",
            "12/12 [==============================] - 3s 80ms/step - loss: 0.4010 - accuracy: 0.8871 - val_loss: 0.4005 - val_accuracy: 0.8989\n",
            "Epoch 2/100\n",
            "12/12 [==============================] - 0s 12ms/step - loss: 0.3617 - accuracy: 0.9055 - val_loss: 0.3662 - val_accuracy: 0.9202\n",
            "Epoch 3/100\n",
            "12/12 [==============================] - 0s 15ms/step - loss: 0.3292 - accuracy: 0.9265 - val_loss: 0.3372 - val_accuracy: 0.9255\n",
            "Epoch 4/100\n",
            "12/12 [==============================] - 0s 9ms/step - loss: 0.3023 - accuracy: 0.9318 - val_loss: 0.3127 - val_accuracy: 0.9309\n",
            "Epoch 5/100\n",
            "12/12 [==============================] - 0s 20ms/step - loss: 0.2795 - accuracy: 0.9396 - val_loss: 0.2927 - val_accuracy: 0.9521\n",
            "Epoch 6/100\n",
            "12/12 [==============================] - 0s 15ms/step - loss: 0.2610 - accuracy: 0.9501 - val_loss: 0.2756 - val_accuracy: 0.9521\n",
            "Epoch 7/100\n",
            "12/12 [==============================] - 0s 24ms/step - loss: 0.2454 - accuracy: 0.9554 - val_loss: 0.2607 - val_accuracy: 0.9521\n",
            "Epoch 8/100\n",
            "12/12 [==============================] - 0s 20ms/step - loss: 0.2320 - accuracy: 0.9580 - val_loss: 0.2479 - val_accuracy: 0.9521\n",
            "Epoch 9/100\n",
            "12/12 [==============================] - 0s 15ms/step - loss: 0.2201 - accuracy: 0.9606 - val_loss: 0.2369 - val_accuracy: 0.9574\n",
            "Epoch 10/100\n",
            "12/12 [==============================] - 0s 12ms/step - loss: 0.2101 - accuracy: 0.9685 - val_loss: 0.2271 - val_accuracy: 0.9628\n",
            "Epoch 11/100\n",
            "12/12 [==============================] - 0s 11ms/step - loss: 0.2012 - accuracy: 0.9685 - val_loss: 0.2183 - val_accuracy: 0.9628\n",
            "Epoch 12/100\n",
            "12/12 [==============================] - 0s 19ms/step - loss: 0.1932 - accuracy: 0.9711 - val_loss: 0.2104 - val_accuracy: 0.9681\n",
            "Epoch 13/100\n",
            "12/12 [==============================] - 0s 14ms/step - loss: 0.1860 - accuracy: 0.9711 - val_loss: 0.2036 - val_accuracy: 0.9734\n",
            "Epoch 14/100\n",
            "12/12 [==============================] - 0s 14ms/step - loss: 0.1797 - accuracy: 0.9764 - val_loss: 0.1973 - val_accuracy: 0.9734\n",
            "Epoch 15/100\n",
            "12/12 [==============================] - 0s 10ms/step - loss: 0.1739 - accuracy: 0.9764 - val_loss: 0.1915 - val_accuracy: 0.9734\n",
            "Epoch 16/100\n",
            "12/12 [==============================] - 0s 17ms/step - loss: 0.1686 - accuracy: 0.9790 - val_loss: 0.1862 - val_accuracy: 0.9734\n",
            "Epoch 17/100\n",
            "12/12 [==============================] - 0s 9ms/step - loss: 0.1639 - accuracy: 0.9790 - val_loss: 0.1815 - val_accuracy: 0.9734\n",
            "Epoch 18/100\n",
            "12/12 [==============================] - 0s 18ms/step - loss: 0.1594 - accuracy: 0.9790 - val_loss: 0.1771 - val_accuracy: 0.9734\n",
            "Epoch 19/100\n",
            "12/12 [==============================] - 0s 9ms/step - loss: 0.1554 - accuracy: 0.9790 - val_loss: 0.1730 - val_accuracy: 0.9734\n",
            "Epoch 20/100\n",
            "12/12 [==============================] - 0s 12ms/step - loss: 0.1516 - accuracy: 0.9790 - val_loss: 0.1694 - val_accuracy: 0.9734\n",
            "Epoch 21/100\n",
            "12/12 [==============================] - 0s 8ms/step - loss: 0.1480 - accuracy: 0.9790 - val_loss: 0.1660 - val_accuracy: 0.9734\n",
            "Epoch 22/100\n",
            "12/12 [==============================] - 0s 14ms/step - loss: 0.1449 - accuracy: 0.9764 - val_loss: 0.1627 - val_accuracy: 0.9734\n",
            "Epoch 23/100\n",
            "12/12 [==============================] - 0s 7ms/step - loss: 0.1419 - accuracy: 0.9764 - val_loss: 0.1597 - val_accuracy: 0.9787\n",
            "Epoch 24/100\n",
            "12/12 [==============================] - 0s 7ms/step - loss: 0.1391 - accuracy: 0.9764 - val_loss: 0.1568 - val_accuracy: 0.9787\n",
            "Epoch 25/100\n",
            "12/12 [==============================] - 0s 12ms/step - loss: 0.1365 - accuracy: 0.9764 - val_loss: 0.1541 - val_accuracy: 0.9787\n",
            "Epoch 26/100\n",
            "12/12 [==============================] - 0s 6ms/step - loss: 0.1340 - accuracy: 0.9764 - val_loss: 0.1517 - val_accuracy: 0.9787\n",
            "Epoch 27/100\n",
            "12/12 [==============================] - 0s 6ms/step - loss: 0.1316 - accuracy: 0.9764 - val_loss: 0.1494 - val_accuracy: 0.9787\n",
            "Epoch 28/100\n",
            "12/12 [==============================] - 0s 9ms/step - loss: 0.1295 - accuracy: 0.9764 - val_loss: 0.1471 - val_accuracy: 0.9787\n",
            "Epoch 29/100\n",
            "12/12 [==============================] - 0s 10ms/step - loss: 0.1274 - accuracy: 0.9790 - val_loss: 0.1450 - val_accuracy: 0.9787\n",
            "Epoch 30/100\n",
            "12/12 [==============================] - 0s 9ms/step - loss: 0.1255 - accuracy: 0.9764 - val_loss: 0.1431 - val_accuracy: 0.9787\n",
            "Epoch 31/100\n",
            "12/12 [==============================] - 0s 10ms/step - loss: 0.1236 - accuracy: 0.9790 - val_loss: 0.1412 - val_accuracy: 0.9787\n",
            "Epoch 32/100\n",
            "12/12 [==============================] - 0s 11ms/step - loss: 0.1218 - accuracy: 0.9790 - val_loss: 0.1394 - val_accuracy: 0.9787\n",
            "Epoch 33/100\n",
            "12/12 [==============================] - 0s 11ms/step - loss: 0.1202 - accuracy: 0.9790 - val_loss: 0.1377 - val_accuracy: 0.9787\n",
            "Epoch 34/100\n",
            "12/12 [==============================] - 0s 11ms/step - loss: 0.1186 - accuracy: 0.9790 - val_loss: 0.1361 - val_accuracy: 0.9734\n",
            "Epoch 35/100\n",
            "12/12 [==============================] - 0s 9ms/step - loss: 0.1171 - accuracy: 0.9790 - val_loss: 0.1345 - val_accuracy: 0.9734\n",
            "Epoch 36/100\n",
            "12/12 [==============================] - 0s 11ms/step - loss: 0.1156 - accuracy: 0.9790 - val_loss: 0.1331 - val_accuracy: 0.9734\n",
            "Epoch 37/100\n",
            "12/12 [==============================] - 0s 11ms/step - loss: 0.1143 - accuracy: 0.9790 - val_loss: 0.1317 - val_accuracy: 0.9734\n",
            "Epoch 38/100\n",
            "12/12 [==============================] - 0s 8ms/step - loss: 0.1130 - accuracy: 0.9790 - val_loss: 0.1303 - val_accuracy: 0.9734\n",
            "Epoch 39/100\n",
            "12/12 [==============================] - 0s 9ms/step - loss: 0.1117 - accuracy: 0.9790 - val_loss: 0.1289 - val_accuracy: 0.9734\n",
            "Epoch 40/100\n",
            "12/12 [==============================] - 0s 9ms/step - loss: 0.1105 - accuracy: 0.9790 - val_loss: 0.1277 - val_accuracy: 0.9734\n",
            "Epoch 41/100\n",
            "12/12 [==============================] - 0s 8ms/step - loss: 0.1093 - accuracy: 0.9790 - val_loss: 0.1265 - val_accuracy: 0.9734\n",
            "Epoch 42/100\n",
            "12/12 [==============================] - 0s 13ms/step - loss: 0.1082 - accuracy: 0.9790 - val_loss: 0.1253 - val_accuracy: 0.9734\n",
            "Epoch 43/100\n",
            "12/12 [==============================] - 0s 8ms/step - loss: 0.1072 - accuracy: 0.9790 - val_loss: 0.1243 - val_accuracy: 0.9734\n",
            "Epoch 44/100\n",
            "12/12 [==============================] - 0s 8ms/step - loss: 0.1062 - accuracy: 0.9790 - val_loss: 0.1232 - val_accuracy: 0.9734\n",
            "Epoch 45/100\n",
            "12/12 [==============================] - 0s 9ms/step - loss: 0.1051 - accuracy: 0.9790 - val_loss: 0.1221 - val_accuracy: 0.9734\n",
            "Epoch 46/100\n",
            "12/12 [==============================] - 0s 8ms/step - loss: 0.1042 - accuracy: 0.9790 - val_loss: 0.1212 - val_accuracy: 0.9734\n",
            "Epoch 47/100\n",
            "12/12 [==============================] - 0s 12ms/step - loss: 0.1032 - accuracy: 0.9790 - val_loss: 0.1202 - val_accuracy: 0.9734\n",
            "Epoch 48/100\n",
            "12/12 [==============================] - 0s 7ms/step - loss: 0.1023 - accuracy: 0.9790 - val_loss: 0.1193 - val_accuracy: 0.9734\n",
            "Epoch 49/100\n",
            "12/12 [==============================] - 0s 6ms/step - loss: 0.1015 - accuracy: 0.9790 - val_loss: 0.1183 - val_accuracy: 0.9734\n",
            "Epoch 50/100\n",
            "12/12 [==============================] - 0s 6ms/step - loss: 0.1006 - accuracy: 0.9790 - val_loss: 0.1176 - val_accuracy: 0.9734\n",
            "Epoch 51/100\n",
            "12/12 [==============================] - 0s 5ms/step - loss: 0.0999 - accuracy: 0.9790 - val_loss: 0.1166 - val_accuracy: 0.9734\n",
            "Epoch 52/100\n",
            "12/12 [==============================] - 0s 8ms/step - loss: 0.0991 - accuracy: 0.9790 - val_loss: 0.1158 - val_accuracy: 0.9734\n",
            "Epoch 53/100\n",
            "12/12 [==============================] - 0s 9ms/step - loss: 0.0984 - accuracy: 0.9790 - val_loss: 0.1149 - val_accuracy: 0.9734\n",
            "Epoch 54/100\n",
            "12/12 [==============================] - 0s 14ms/step - loss: 0.0976 - accuracy: 0.9790 - val_loss: 0.1143 - val_accuracy: 0.9734\n",
            "Epoch 55/100\n",
            "12/12 [==============================] - 0s 5ms/step - loss: 0.0969 - accuracy: 0.9790 - val_loss: 0.1135 - val_accuracy: 0.9734\n",
            "Epoch 56/100\n",
            "12/12 [==============================] - 0s 5ms/step - loss: 0.0962 - accuracy: 0.9790 - val_loss: 0.1127 - val_accuracy: 0.9734\n",
            "Epoch 57/100\n",
            "12/12 [==============================] - 0s 11ms/step - loss: 0.0955 - accuracy: 0.9790 - val_loss: 0.1120 - val_accuracy: 0.9734\n",
            "Epoch 58/100\n",
            "12/12 [==============================] - 0s 7ms/step - loss: 0.0949 - accuracy: 0.9790 - val_loss: 0.1113 - val_accuracy: 0.9734\n",
            "Epoch 59/100\n",
            "12/12 [==============================] - 0s 6ms/step - loss: 0.0942 - accuracy: 0.9790 - val_loss: 0.1106 - val_accuracy: 0.9734\n",
            "Epoch 60/100\n",
            "12/12 [==============================] - 0s 6ms/step - loss: 0.0936 - accuracy: 0.9790 - val_loss: 0.1100 - val_accuracy: 0.9734\n",
            "Epoch 61/100\n",
            "12/12 [==============================] - 0s 6ms/step - loss: 0.0930 - accuracy: 0.9790 - val_loss: 0.1094 - val_accuracy: 0.9734\n",
            "Epoch 62/100\n",
            "12/12 [==============================] - 0s 11ms/step - loss: 0.0924 - accuracy: 0.9816 - val_loss: 0.1089 - val_accuracy: 0.9734\n",
            "Epoch 63/100\n",
            "12/12 [==============================] - 0s 7ms/step - loss: 0.0919 - accuracy: 0.9816 - val_loss: 0.1081 - val_accuracy: 0.9734\n",
            "Epoch 64/100\n",
            "12/12 [==============================] - 0s 6ms/step - loss: 0.0913 - accuracy: 0.9816 - val_loss: 0.1076 - val_accuracy: 0.9734\n",
            "Epoch 65/100\n",
            "12/12 [==============================] - 0s 4ms/step - loss: 0.0908 - accuracy: 0.9816 - val_loss: 0.1070 - val_accuracy: 0.9734\n",
            "Epoch 66/100\n",
            "12/12 [==============================] - 0s 16ms/step - loss: 0.0903 - accuracy: 0.9816 - val_loss: 0.1065 - val_accuracy: 0.9734\n",
            "Epoch 67/100\n",
            "12/12 [==============================] - 0s 7ms/step - loss: 0.0898 - accuracy: 0.9816 - val_loss: 0.1059 - val_accuracy: 0.9734\n",
            "Epoch 68/100\n",
            "12/12 [==============================] - 0s 6ms/step - loss: 0.0893 - accuracy: 0.9816 - val_loss: 0.1054 - val_accuracy: 0.9734\n",
            "Epoch 69/100\n",
            "12/12 [==============================] - 0s 5ms/step - loss: 0.0888 - accuracy: 0.9816 - val_loss: 0.1049 - val_accuracy: 0.9734\n",
            "Epoch 70/100\n",
            "12/12 [==============================] - 0s 8ms/step - loss: 0.0883 - accuracy: 0.9816 - val_loss: 0.1043 - val_accuracy: 0.9734\n",
            "Epoch 71/100\n",
            "12/12 [==============================] - 0s 9ms/step - loss: 0.0878 - accuracy: 0.9816 - val_loss: 0.1038 - val_accuracy: 0.9734\n",
            "Epoch 72/100\n",
            "12/12 [==============================] - 0s 7ms/step - loss: 0.0873 - accuracy: 0.9816 - val_loss: 0.1033 - val_accuracy: 0.9734\n",
            "Epoch 73/100\n",
            "12/12 [==============================] - 0s 6ms/step - loss: 0.0869 - accuracy: 0.9816 - val_loss: 0.1028 - val_accuracy: 0.9734\n",
            "Epoch 74/100\n",
            "12/12 [==============================] - 0s 5ms/step - loss: 0.0865 - accuracy: 0.9816 - val_loss: 0.1024 - val_accuracy: 0.9734\n",
            "Epoch 75/100\n",
            "12/12 [==============================] - 0s 11ms/step - loss: 0.0860 - accuracy: 0.9816 - val_loss: 0.1019 - val_accuracy: 0.9734\n",
            "Epoch 76/100\n",
            "12/12 [==============================] - 0s 13ms/step - loss: 0.0856 - accuracy: 0.9816 - val_loss: 0.1015 - val_accuracy: 0.9734\n",
            "Epoch 77/100\n",
            "12/12 [==============================] - 0s 5ms/step - loss: 0.0852 - accuracy: 0.9816 - val_loss: 0.1009 - val_accuracy: 0.9734\n",
            "Epoch 78/100\n",
            "12/12 [==============================] - 0s 7ms/step - loss: 0.0848 - accuracy: 0.9816 - val_loss: 0.1006 - val_accuracy: 0.9734\n",
            "Epoch 79/100\n",
            "12/12 [==============================] - 0s 18ms/step - loss: 0.0844 - accuracy: 0.9816 - val_loss: 0.1002 - val_accuracy: 0.9734\n",
            "Epoch 80/100\n",
            "12/12 [==============================] - 0s 18ms/step - loss: 0.0840 - accuracy: 0.9816 - val_loss: 0.0998 - val_accuracy: 0.9734\n",
            "Epoch 81/100\n",
            "12/12 [==============================] - 0s 17ms/step - loss: 0.0837 - accuracy: 0.9816 - val_loss: 0.0993 - val_accuracy: 0.9734\n",
            "Epoch 82/100\n",
            "12/12 [==============================] - 0s 8ms/step - loss: 0.0833 - accuracy: 0.9816 - val_loss: 0.0989 - val_accuracy: 0.9734\n",
            "Epoch 83/100\n",
            "12/12 [==============================] - 0s 12ms/step - loss: 0.0829 - accuracy: 0.9816 - val_loss: 0.0985 - val_accuracy: 0.9734\n",
            "Epoch 84/100\n",
            "12/12 [==============================] - 0s 22ms/step - loss: 0.0825 - accuracy: 0.9816 - val_loss: 0.0982 - val_accuracy: 0.9734\n",
            "Epoch 85/100\n",
            "12/12 [==============================] - 0s 7ms/step - loss: 0.0822 - accuracy: 0.9816 - val_loss: 0.0978 - val_accuracy: 0.9734\n",
            "Epoch 86/100\n",
            "12/12 [==============================] - 0s 7ms/step - loss: 0.0819 - accuracy: 0.9816 - val_loss: 0.0974 - val_accuracy: 0.9734\n",
            "Epoch 87/100\n",
            "12/12 [==============================] - 0s 15ms/step - loss: 0.0815 - accuracy: 0.9816 - val_loss: 0.0971 - val_accuracy: 0.9734\n",
            "Epoch 88/100\n",
            "12/12 [==============================] - 0s 25ms/step - loss: 0.0812 - accuracy: 0.9816 - val_loss: 0.0967 - val_accuracy: 0.9734\n",
            "Epoch 89/100\n",
            "12/12 [==============================] - 0s 19ms/step - loss: 0.0809 - accuracy: 0.9843 - val_loss: 0.0964 - val_accuracy: 0.9734\n",
            "Epoch 90/100\n",
            "12/12 [==============================] - 0s 12ms/step - loss: 0.0805 - accuracy: 0.9843 - val_loss: 0.0960 - val_accuracy: 0.9787\n",
            "Epoch 91/100\n",
            "12/12 [==============================] - 0s 7ms/step - loss: 0.0802 - accuracy: 0.9843 - val_loss: 0.0957 - val_accuracy: 0.9787\n",
            "Epoch 92/100\n",
            "12/12 [==============================] - 0s 8ms/step - loss: 0.0799 - accuracy: 0.9843 - val_loss: 0.0953 - val_accuracy: 0.9787\n",
            "Epoch 93/100\n",
            "12/12 [==============================] - 0s 14ms/step - loss: 0.0796 - accuracy: 0.9843 - val_loss: 0.0951 - val_accuracy: 0.9787\n",
            "Epoch 94/100\n",
            "12/12 [==============================] - 0s 9ms/step - loss: 0.0793 - accuracy: 0.9843 - val_loss: 0.0948 - val_accuracy: 0.9787\n",
            "Epoch 95/100\n",
            "12/12 [==============================] - 0s 9ms/step - loss: 0.0790 - accuracy: 0.9843 - val_loss: 0.0945 - val_accuracy: 0.9787\n",
            "Epoch 96/100\n",
            "12/12 [==============================] - 0s 21ms/step - loss: 0.0787 - accuracy: 0.9843 - val_loss: 0.0942 - val_accuracy: 0.9787\n",
            "Epoch 97/100\n",
            "12/12 [==============================] - 0s 7ms/step - loss: 0.0784 - accuracy: 0.9843 - val_loss: 0.0938 - val_accuracy: 0.9787\n",
            "Epoch 98/100\n",
            "12/12 [==============================] - 0s 8ms/step - loss: 0.0781 - accuracy: 0.9843 - val_loss: 0.0935 - val_accuracy: 0.9787\n",
            "Epoch 99/100\n",
            "12/12 [==============================] - 0s 12ms/step - loss: 0.0779 - accuracy: 0.9843 - val_loss: 0.0933 - val_accuracy: 0.9787\n",
            "Epoch 100/100\n",
            "12/12 [==============================] - 0s 7ms/step - loss: 0.0776 - accuracy: 0.9843 - val_loss: 0.0929 - val_accuracy: 0.9787\n"
          ]
        }
      ]
    },
    {
      "cell_type": "code",
      "source": [
        "print(\"Train score:\", model.evaluate(X_train, y_train))\n",
        "print(\"Test score:\", model.evaluate(X_test, y_test))"
      ],
      "metadata": {
        "colab": {
          "base_uri": "https://localhost:8080/"
        },
        "id": "A7xjsPtFM7qg",
        "outputId": "36944426-4e3a-49ec-ea31-bc42ac98065f"
      },
      "execution_count": null,
      "outputs": [
        {
          "output_type": "stream",
          "name": "stdout",
          "text": [
            "12/12 [==============================] - 0s 2ms/step - loss: 0.0774 - accuracy: 0.9843\n",
            "Train score: [0.07739124447107315, 0.9842519760131836]\n",
            "6/6 [==============================] - 0s 3ms/step - loss: 0.0929 - accuracy: 0.9787\n",
            "Test score: [0.09291797131299973, 0.978723406791687]\n"
          ]
        }
      ]
    },
    {
      "cell_type": "code",
      "source": [
        "import matplotlib.pyplot as plt\n",
        "plt.plot(r.history['loss'], label='loss')\n",
        "plt.plot(r.history['val_loss'], label='val_loss')\n",
        "plt.legend();"
      ],
      "metadata": {
        "colab": {
          "base_uri": "https://localhost:8080/",
          "height": 430
        },
        "id": "lPHr5nVUNqt3",
        "outputId": "086b5f27-488b-4a30-94f1-f822b2670281"
      },
      "execution_count": null,
      "outputs": [
        {
          "output_type": "display_data",
          "data": {
            "text/plain": [
              "<Figure size 640x480 with 1 Axes>"
            ],
            "image/png": "[encoded data removed]"
          },
          "metadata": {}
        }
      ]
    },
    {
      "cell_type": "code",
      "source": [
        "plt.plot(r.history['accuracy'], label='acc')\n",
        "plt.plot(r.history['val_accuracy'], label='val_acc')\n",
        "plt.legend();"
      ],
      "metadata": {
        "colab": {
          "base_uri": "https://localhost:8080/",
          "height": 430
        },
        "id": "pOZr0sm8OKHS",
        "outputId": "8b6594d3-d1b3-4800-e237-3cbdd989cd9e"
      },
      "execution_count": null,
      "outputs": [
        {
          "output_type": "display_data",
          "data": {
            "text/plain": [
              "<Figure size 640x480 with 1 Axes>"
            ],
            "image/png": "[encoded data removed]"
          },
          "metadata": {}
        }
      ]
    },
    {
      "cell_type": "markdown",
      "source": [
        "# Part 2"
      ],
      "metadata": {
        "id": "yzua-d8TUsHZ"
      }
    },
    {
      "cell_type": "code",
      "source": [
        "# Make predictions\n",
        "P = model.predict(X_test)\n",
        "print(P) "
      ],
      "metadata": {
        "colab": {
          "base_uri": "https://localhost:8080/"
        },
        "id": "iCIfgbPbUgyN",
        "outputId": "bb71385c-1e1a-4b74-fdc9-b7ce1f493020"
      },
      "execution_count": null,
      "outputs": [
        {
          "output_type": "stream",
          "name": "stdout",
          "text": [
            "6/6 [==============================] - 0s 6ms/step\n",
            "[[4.73323762e-01]\n",
            " [9.92822587e-01]\n",
            " [9.81011391e-01]\n",
            " [9.23518240e-01]\n",
            " [9.99823809e-01]\n",
            " [9.96397376e-01]\n",
            " [9.49057341e-01]\n",
            " [4.86112207e-01]\n",
            " [9.40027595e-01]\n",
            " [1.47355553e-02]\n",
            " [9.99938428e-01]\n",
            " [8.66403043e-01]\n",
            " [7.05007911e-01]\n",
            " [9.96633470e-01]\n",
            " [1.01517752e-01]\n",
            " [2.19426826e-02]\n",
            " [4.35231589e-02]\n",
            " [1.34284481e-01]\n",
            " [9.96342719e-01]\n",
            " [7.79437900e-01]\n",
            " [4.93878275e-01]\n",
            " [5.71206724e-03]\n",
            " [9.95071173e-01]\n",
            " [1.82877193e-05]\n",
            " [1.96111891e-02]\n",
            " [9.89479959e-01]\n",
            " [9.91543651e-01]\n",
            " [9.97284114e-01]\n",
            " [8.23231578e-01]\n",
            " [9.82192099e-01]\n",
            " [9.96744573e-01]\n",
            " [1.68464680e-06]\n",
            " [1.18090369e-01]\n",
            " [9.99282479e-01]\n",
            " [6.53507233e-01]\n",
            " [9.85315800e-01]\n",
            " [6.61939521e-06]\n",
            " [9.93753731e-01]\n",
            " [2.45545030e-01]\n",
            " [9.93206501e-01]\n",
            " [9.96281385e-01]\n",
            " [9.99495864e-01]\n",
            " [9.84746158e-01]\n",
            " [9.99972284e-01]\n",
            " [9.81976688e-01]\n",
            " [9.94360328e-01]\n",
            " [9.96317148e-01]\n",
            " [9.99321043e-01]\n",
            " [9.95972037e-01]\n",
            " [4.50463504e-01]\n",
            " [9.99267638e-01]\n",
            " [8.64105701e-01]\n",
            " [9.96727943e-01]\n",
            " [9.98163342e-01]\n",
            " [6.37643397e-01]\n",
            " [1.80656854e-02]\n",
            " [5.87631192e-04]\n",
            " [2.49522127e-04]\n",
            " [9.94645357e-01]\n",
            " [9.53259051e-01]\n",
            " [2.66589213e-05]\n",
            " [9.88542020e-01]\n",
            " [9.98067975e-01]\n",
            " [1.67540163e-01]\n",
            " [6.93008184e-01]\n",
            " [1.58425792e-05]\n",
            " [1.61680029e-04]\n",
            " [1.54682598e-03]\n",
            " [4.41711456e-01]\n",
            " [9.98835266e-01]\n",
            " [9.95534301e-01]\n",
            " [9.93737459e-01]\n",
            " [9.59046721e-01]\n",
            " [9.99863148e-01]\n",
            " [9.99808311e-01]\n",
            " [9.91735756e-01]\n",
            " [7.93352664e-01]\n",
            " [9.69475746e-01]\n",
            " [9.99737918e-01]\n",
            " [9.01554108e-01]\n",
            " [9.91321325e-01]\n",
            " [9.98185873e-01]\n",
            " [9.63615417e-01]\n",
            " [9.90874052e-01]\n",
            " [1.57448419e-04]\n",
            " [9.99597013e-01]\n",
            " [6.61089957e-01]\n",
            " [9.47758436e-01]\n",
            " [9.98648882e-01]\n",
            " [9.99336123e-01]\n",
            " [9.94461298e-01]\n",
            " [8.96266997e-01]\n",
            " [9.50289249e-01]\n",
            " [8.79287958e-01]\n",
            " [3.89559823e-03]\n",
            " [9.93522584e-01]\n",
            " [4.58332449e-02]\n",
            " [9.93982792e-01]\n",
            " [9.57456708e-01]\n",
            " [7.05622256e-01]\n",
            " [9.95113969e-01]\n",
            " [9.97365117e-01]\n",
            " [9.48192358e-01]\n",
            " [9.98808980e-01]\n",
            " [9.90174830e-01]\n",
            " [2.63111651e-01]\n",
            " [3.06828469e-02]\n",
            " [7.94325411e-01]\n",
            " [3.95760965e-03]\n",
            " [9.87566471e-01]\n",
            " [9.64564383e-01]\n",
            " [9.97557819e-01]\n",
            " [2.90456891e-01]\n",
            " [2.95606751e-05]\n",
            " [5.48132658e-02]\n",
            " [9.24203824e-03]\n",
            " [9.67549086e-01]\n",
            " [9.97833610e-01]\n",
            " [9.99860168e-01]\n",
            " [9.95132804e-01]\n",
            " [4.61940863e-06]\n",
            " [5.36970736e-04]\n",
            " [6.29907481e-06]\n",
            " [9.97528493e-01]\n",
            " [9.98491287e-01]\n",
            " [1.62210286e-04]\n",
            " [1.13038523e-02]\n",
            " [9.94148970e-01]\n",
            " [5.17856061e-01]\n",
            " [7.44806379e-02]\n",
            " [3.72711142e-08]\n",
            " [9.99174058e-01]\n",
            " [5.92383780e-02]\n",
            " [9.67722058e-01]\n",
            " [9.98010516e-01]\n",
            " [9.77302849e-01]\n",
            " [9.86812055e-01]\n",
            " [5.06576262e-02]\n",
            " [9.63127613e-01]\n",
            " [3.56696686e-03]\n",
            " [9.87610936e-01]\n",
            " [2.04984826e-04]\n",
            " [9.98740077e-01]\n",
            " [9.83015954e-01]\n",
            " [9.25058603e-01]\n",
            " [2.96178665e-02]\n",
            " [9.12814915e-01]\n",
            " [2.53533921e-03]\n",
            " [1.41338005e-05]\n",
            " [3.96418609e-02]\n",
            " [9.95778263e-01]\n",
            " [1.50542962e-03]\n",
            " [9.75747108e-01]\n",
            " [2.07017317e-01]\n",
            " [9.72327709e-01]\n",
            " [9.95133996e-01]\n",
            " [7.69305602e-02]\n",
            " [9.92107391e-01]\n",
            " [9.94126320e-01]\n",
            " [9.61074173e-01]\n",
            " [8.18939745e-01]\n",
            " [9.95392203e-01]\n",
            " [9.97388721e-01]\n",
            " [9.97454882e-01]\n",
            " [9.99841571e-01]\n",
            " [9.67129290e-01]\n",
            " [9.99788642e-01]\n",
            " [9.97727454e-01]\n",
            " [1.50269615e-02]\n",
            " [7.63817906e-01]\n",
            " [9.77456093e-01]\n",
            " [2.37395272e-01]\n",
            " [9.93961096e-01]\n",
            " [8.93552125e-01]\n",
            " [1.60319731e-04]\n",
            " [9.64140773e-01]\n",
            " [9.97607887e-01]\n",
            " [9.97511804e-01]\n",
            " [9.97327745e-01]\n",
            " [9.94972944e-01]\n",
            " [9.98799205e-01]\n",
            " [9.52420413e-01]\n",
            " [8.44787180e-01]\n",
            " [9.60908771e-01]\n",
            " [2.80567497e-01]\n",
            " [9.99962151e-01]\n",
            " [9.98369575e-01]\n",
            " [8.81719053e-01]]\n"
          ]
        }
      ]
    },
    {
      "cell_type": "code",
      "source": [
        "# Round to get the actual predictions\n",
        "# NOte: has to be flattened since the targets are size (N,) while the predictions are size (N,1)\n",
        "import numpy as np\n",
        "P = np.round(P).flatten()\n",
        "print(P)"
      ],
      "metadata": {
        "colab": {
          "base_uri": "https://localhost:8080/"
        },
        "id": "oVzkBmWoU67-",
        "outputId": "f7ae3657-750b-4bf0-a1ee-245668e8b99d"
      },
      "execution_count": null,
      "outputs": [
        {
          "output_type": "stream",
          "name": "stdout",
          "text": [
            "[0. 1. 1. 1. 1. 1. 1. 0. 1. 0. 1. 1. 1. 1. 0. 0. 0. 0. 1. 1. 0. 0. 1. 0.\n",
            " 0. 1. 1. 1. 1. 1. 1. 0. 0. 1. 1. 1. 0. 1. 0. 1. 1. 1. 1. 1. 1. 1. 1. 1.\n",
            " 1. 0. 1. 1. 1. 1. 1. 0. 0. 0. 1. 1. 0. 1. 1. 0. 1. 0. 0. 0. 0. 1. 1. 1.\n",
            " 1. 1. 1. 1. 1. 1. 1. 1. 1. 1. 1. 1. 0. 1. 1. 1. 1. 1. 1. 1. 1. 1. 0. 1.\n",
            " 0. 1. 1. 1. 1. 1. 1. 1. 1. 0. 0. 1. 0. 1. 1. 1. 0. 0. 0. 0. 1. 1. 1. 1.\n",
            " 0. 0. 0. 1. 1. 0. 0. 1. 1. 0. 0. 1. 0. 1. 1. 1. 1. 0. 1. 0. 1. 0. 1. 1.\n",
            " 1. 0. 1. 0. 0. 0. 1. 0. 1. 0. 1. 1. 0. 1. 1. 1. 1. 1. 1. 1. 1. 1. 1. 1.\n",
            " 0. 1. 1. 0. 1. 1. 0. 1. 1. 1. 1. 1. 1. 1. 1. 1. 0. 1. 1. 1.]\n"
          ]
        }
      ]
    },
    {
      "cell_type": "code",
      "source": [
        "# Calculate the accuracy, compare it to evaluate() output\n",
        "print(\"Manually calculated accuracy:\", np.mean(P == y_test))\n",
        "print(\"Evaluate output:\", model.evaluate(X_test, y_test))"
      ],
      "metadata": {
        "colab": {
          "base_uri": "https://localhost:8080/"
        },
        "id": "Dsbf3zDhVYIE",
        "outputId": "f6c5b7f6-ee28-4587-b0e3-5905b9199390"
      },
      "execution_count": null,
      "outputs": [
        {
          "output_type": "stream",
          "name": "stdout",
          "text": [
            "Manually calculated accuracy: 0.9787234042553191\n",
            "6/6 [==============================] - 0s 4ms/step - loss: 0.0929 - accuracy: 0.9787\n",
            "Evaluate output: [0.09291797131299973, 0.978723406791687]\n"
          ]
        }
      ]
    },
    {
      "cell_type": "markdown",
      "source": [
        "# Part 3"
      ],
      "metadata": {
        "id": "sGgMcKjYWRxk"
      }
    },
    {
      "cell_type": "code",
      "source": [
        "# Let's now save our model to a file\n",
        "model.save('linearclassifier.h5')"
      ],
      "metadata": {
        "id": "t7Fj2fxDWK4H"
      },
      "execution_count": null,
      "outputs": []
    },
    {
      "cell_type": "code",
      "source": [
        "# Check that the model file exists\n",
        "!ls -lh"
      ],
      "metadata": {
        "colab": {
          "base_uri": "https://localhost:8080/"
        },
        "id": "vbkHcongefrR",
        "outputId": "b56c597b-206c-417e-85dd-221fa879785a"
      },
      "execution_count": null,
      "outputs": [
        {
          "output_type": "stream",
          "name": "stdout",
          "text": [
            "total 24K\n",
            "-rw-r--r-- 1 root root  20K May 20 23:01 linearclassifier.h5\n",
            "drwxr-xr-x 1 root root 4.0K May 18 13:38 sample_data\n"
          ]
        }
      ]
    },
    {
      "cell_type": "code",
      "source": [
        "# Let's load the model and confirm that it still works\n",
        "# Note: there is a bug in Keras where load/save only works if you DON't use the Input() layer explicitly\n",
        "# So, make sure you define the model with Only Dense(1, input_shape=(D,))\n",
        "# At least, until the bug is fixed\n",
        "# https://github.com/keras-team/keras/issues/10417\n",
        "model = tf.keras.models.load_model('linearclassifier.h5')\n",
        "print(model.layers)\n",
        "model.evaluate(X_test, y_test)"
      ],
      "metadata": {
        "colab": {
          "base_uri": "https://localhost:8080/"
        },
        "id": "MKqfHX3NZd2t",
        "outputId": "75e4985e-21c8-4a85-9fd4-5ac826b4f3ac"
      },
      "execution_count": null,
      "outputs": [
        {
          "output_type": "stream",
          "name": "stdout",
          "text": [
            "[<keras.layers.core.dense.Dense object at 0x7f9a9e990a90>]\n",
            "6/6 [==============================] - 0s 3ms/step - loss: 0.0929 - accuracy: 0.9787\n"
          ]
        },
        {
          "output_type": "execute_result",
          "data": {
            "text/plain": [
              "[0.09291797131299973, 0.978723406791687]"
            ]
          },
          "metadata": {},
          "execution_count": 28
        }
      ]
    }
  ]
}